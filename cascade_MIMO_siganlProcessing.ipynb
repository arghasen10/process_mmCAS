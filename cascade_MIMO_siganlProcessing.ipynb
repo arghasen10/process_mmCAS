{
 "cells": [
  {
   "cell_type": "code",
   "execution_count": 1,
   "metadata": {},
   "outputs": [],
   "source": [
    "import glob\n",
    "import numpy as np\n",
    "from utils.read_ADC_bin_TDA2_separateFiles import read_adc_bin_tda2_separate_files\n",
    "from utils.rangeProcCascade import rangeProc\n",
    "from utils.DopplerProcCascade import dopplerProc\n",
    "from utils import cfar_caso\n",
    "import seaborn as sns"
   ]
  },
  {
   "cell_type": "code",
   "execution_count": 11,
   "metadata": {},
   "outputs": [],
   "source": [
    "num_sample_per_chirp=256\n",
    "num_chirp_per_loop=12\n",
    "num_loops=64\n",
    "num_rx_per_device=4\n",
    "num_devices=1\n",
    "chunk_size = num_sample_per_chirp*num_chirp_per_loop*num_loops*num_rx_per_device*num_devices*4\n",
    "RxForMimoProcess = [12,13,14,15,0,1,2,3,8,9,10,11,4,5,6,7]"
   ]
  },
  {
   "cell_type": "code",
   "execution_count": 3,
   "metadata": {},
   "outputs": [],
   "source": [
    "def bin2np_frame(bin_frame):  #\n",
    "    neg = np.bitwise_and(bin_frame, 1 << 15) != 0\n",
    "    bin_frame[neg] = bin_frame[neg]-(2**16)\n",
    "    bin_frame = bin_frame[0::2] + 1j * bin_frame[1::2]\n",
    "    bin_frame = np.reshape(bin_frame, (num_rx_per_device, num_sample_per_chirp, num_chirp_per_loop, num_loops), order='F')\n",
    "    bin_frame = np.transpose(bin_frame,axes=(1,3,0,2))\n",
    "    return bin_frame"
   ]
  },
  {
   "cell_type": "code",
   "execution_count": 4,
   "metadata": {},
   "outputs": [],
   "source": [
    "filepath = r\"C:\\ti\\mmwave_studio_02_01_01_00\\mmWaveStudio\\PostProc\\cascade_cpu_head_1\\\\*.bin\""
   ]
  },
  {
   "cell_type": "code",
   "execution_count": 5,
   "metadata": {},
   "outputs": [],
   "source": [
    "def get_valid_num_frames(adc_idx_file_name):\n",
    "    header_info_size = 6\n",
    "    with open(adc_idx_file_name, 'rb') as idx_file:\n",
    "        header_info = np.fromfile(idx_file, dtype=np.uint32, count=header_info_size)\n",
    "        num_idx = header_info[3]  \n",
    "    \n",
    "    header_info_size = 3\n",
    "    with open(adc_idx_file_name, 'rb') as idx_file:\n",
    "        header_info = np.fromfile(idx_file, dtype=np.uint64, count=header_info_size)\n",
    "        data_file_size = header_info[2]  \n",
    "    \n",
    "    return num_idx, data_file_size\n"
   ]
  },
  {
   "cell_type": "code",
   "execution_count": 6,
   "metadata": {},
   "outputs": [
    {
     "name": "stdout",
     "output_type": "stream",
     "text": [
      "Number of Frames: 99\n",
      "Data File Size: 311427072\n"
     ]
    }
   ],
   "source": [
    "data_files = glob.glob(filepath)\n",
    "num_frames = 0 \n",
    "data_file_size = 0\n",
    "for file in data_files:\n",
    "    if 'master_0000_idx' in file:\n",
    "        num_frames, data_file_size = get_valid_num_frames(file)\n",
    "        print(f\"Number of Frames: {num_frames}\")\n",
    "        print(f\"Data File Size: {data_file_size}\")"
   ]
  },
  {
   "cell_type": "code",
   "execution_count": 31,
   "metadata": {},
   "outputs": [
    {
     "name": "stdout",
     "output_type": "stream",
     "text": [
      "(256, 64, 16, 12)\n",
      "[  485.-3654.j  3611.+1549.j -1767.+2995.j -5219.-2331.j  2764.+1272.j\n",
      " -2488.-2090.j  6678.-2035.j -1934. +389.j -5707.+3370.j -1172.+1160.j]\n",
      "(256, 64, 16, 12)\n",
      "[-2632.-2037.j  7016.-2004.j -1533. +386.j -5091.+3272.j  -504. +770.j\n",
      "  2479.-1394.j -1026. -551.j   117.-3409.j  2791.+1715.j -1453.+2760.j]\n"
     ]
    }
   ],
   "source": [
    "angleFFTs_sum_frames = np.zeros((num_frames, 256, 256))\n",
    "file_paths = {}\n",
    "dtype=np.uint16\n",
    "for file in data_files:\n",
    "    if 'data' in file:\n",
    "        if 'master' in file:\n",
    "            file_paths['master'] = file\n",
    "        elif 'slave1' in file:\n",
    "            file_paths['slave1'] = file\n",
    "        elif 'slave2' in file:\n",
    "            file_paths['slave2'] = file\n",
    "        elif 'slave3' in file:\n",
    "            file_paths['slave3'] = file\n",
    "with open(file_paths['master'], 'rb') as f_master, \\\n",
    "     open(file_paths['slave1'], 'rb') as f_slave1, \\\n",
    "     open(file_paths['slave2'], 'rb') as f_slave2, \\\n",
    "     open(file_paths['slave3'], 'rb') as f_slave3:\n",
    "    for frame_no in range(30):\n",
    "        masterArr = bin2np_frame(np.frombuffer(f_master.read(chunk_size), dtype=np.int16).copy())\n",
    "        slave1_arr = bin2np_frame(np.frombuffer(f_slave1.read(chunk_size), dtype=np.int16).copy())\n",
    "        slave2_arr = bin2np_frame(np.frombuffer(f_slave2.read(chunk_size), dtype=np.int16).copy())\n",
    "        slave3_arr = bin2np_frame(np.frombuffer(f_slave3.read(chunk_size), dtype=np.int16).copy())\n",
    "        radar_cube=np.zeros(shape=(256,64,16,12), dtype=np.complex_)\n",
    "        radar_cube[:,:,0:4,:] = masterArr\n",
    "        radar_cube[:,:,4:8,:] = slave1_arr\n",
    "        radar_cube[:,:,8:12,:] = slave2_arr\n",
    "        radar_cube[:,:,12:,:] = slave3_arr\n",
    "        radar_cube = radar_cube[:,:,RxForMimoProcess,:]\n",
    "        print(radar_cube.shape)\n",
    "        print(radar_cube[0,0,1,0:10])\n",
    "        rangeFFTOut = np.zeros(shape=radar_cube.shape, dtype=np.complex_)\n",
    "        DopplerFFTOut = np.zeros(shape=radar_cube.shape, dtype=np.complex_)\n",
    "        for i_tx in range(radar_cube.shape[3]):\n",
    "            rangeFFTOut[:,:,:,i_tx] = rangeProc(radar_cube[:,:,:,i_tx])\n",
    "            DopplerFFTOut[:,:,:,i_tx] = dopplerProc(rangeFFTOut[:,:,:,i_tx])\n",
    "        DopplerFFTOut =  np.reshape(\n",
    "            DopplerFFTOut, \n",
    "            (DopplerFFTOut.shape[0], DopplerFFTOut.shape[1], DopplerFFTOut.shape[2] * DopplerFFTOut.shape[3])\n",
    "        )\n",
    "        sig_integrate = 10 * np.log10(np.sum(np.abs(DopplerFFTOut)**2, axis=2) + 1)\n",
    "        if frame_no == 1:\n",
    "            break"
   ]
  },
  {
   "cell_type": "code",
   "execution_count": 32,
   "metadata": {},
   "outputs": [
    {
     "data": {
      "text/plain": [
       "<AxesSubplot:>"
      ]
     },
     "execution_count": 32,
     "metadata": {},
     "output_type": "execute_result"
    },
    {
     "data": {
      "image/png": "[encoded data removed]",
      "text/plain": [
       "<Figure size 432x288 with 2 Axes>"
      ]
     },
     "metadata": {
      "needs_background": "light"
     },
     "output_type": "display_data"
    }
   ],
   "source": [
    "sns.heatmap(np.abs(np.sum(rangeFFTOut,axis=(2,3))))"
   ]
  },
  {
   "cell_type": "code",
   "execution_count": 33,
   "metadata": {},
   "outputs": [
    {
     "data": {
      "text/plain": [
       "array([ 143068.39883567,  348827.32739185,  661555.94312731,\n",
       "        511082.52129343,  119227.79511724,  740918.55646594,\n",
       "       1357350.15702486, 1231280.15785517, 1261175.76853025,\n",
       "        470180.70001899])"
      ]
     },
     "execution_count": 33,
     "metadata": {},
     "output_type": "execute_result"
    }
   ],
   "source": [
    "np.abs(np.sum(rangeFFTOut,axis=(2,3)))[:10,0]"
   ]
  },
  {
   "cell_type": "code",
   "execution_count": null,
   "metadata": {},
   "outputs": [],
   "source": []
  }
 ],
 "metadata": {
  "kernelspec": {
   "display_name": "Python 3",
   "language": "python",
   "name": "python3"
  },
  "language_info": {
   "codemirror_mode": {
    "name": "ipython",
    "version": 3
   },
   "file_extension": ".py",
   "mimetype": "text/x-python",
   "name": "python",
   "nbconvert_exporter": "python",
   "pygments_lexer": "ipython3",
   "version": "3.8.8rc1"
  }
 },
 "nbformat": 4,
 "nbformat_minor": 2
}
